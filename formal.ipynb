{
 "cells": [
  {
   "cell_type": "code",
   "execution_count": null,
   "metadata": {},
   "outputs": [],
   "source": [
    "import pandas as pd\n",
    "import numpy as np\n",
    "import os\n",
    "import matplotlib.pyplot as plt\n",
    "from collections import Counter\n",
    "import warnings\n",
    "from naming_scheme import type_and_suffix\n",
    "from collections import deque\n",
    "import cox,binomial,conditional_lr,icd_data_process\n",
    "from MAFLD_tag import psm_result\n",
    "from MAFLD_tag import NFS_tag\n",
    "from MAFLD_tag import get_MAFLD\n"
   ]
  },
  {
   "cell_type": "code",
   "execution_count": 2,
   "metadata": {},
   "outputs": [
    {
     "name": "stdout",
     "output_type": "stream",
     "text": [
      "WARNING: Import named \"scipy\" not found locally. Trying to resolve it at the PyPI server.\n",
      "WARNING: Import named \"scipy\" was resolved to \"scipy:1.10.1\" package (https://pypi.org/project/scipy/).\n",
      "Please, verify manually the final list of requirements.txt to avoid possible dependency confusions.\n",
      "INFO: Successfully saved requirements file in ./requirements.txt\n"
     ]
    }
   ],
   "source": [
    "!pipreqs ."
   ]
  },
  {
   "attachments": {},
   "cell_type": "markdown",
   "metadata": {},
   "source": [
    "# Generate label"
   ]
  },
  {
   "cell_type": "code",
   "execution_count": null,
   "metadata": {},
   "outputs": [],
   "source": [
    "get_MAFLD('data_original')"
   ]
  },
  {
   "attachments": {},
   "cell_type": "markdown",
   "metadata": {},
   "source": [
    "# Run PSM.R to get PSM result "
   ]
  },
  {
   "cell_type": "code",
   "execution_count": null,
   "metadata": {},
   "outputs": [],
   "source": [
    "psm_result()\n",
    "NFS_tag()"
   ]
  },
  {
   "attachments": {},
   "cell_type": "markdown",
   "metadata": {},
   "source": [
    "# Section 1"
   ]
  },
  {
   "cell_type": "code",
   "execution_count": null,
   "metadata": {},
   "outputs": [],
   "source": [
    "task=type_and_suffix('disease','all',)\n",
    "\n",
    "cox.for_cox(task)\n",
    "\n",
    "cox.cox_regression(task)\n",
    "\n",
    "binomial.disease_pairs(task)\n",
    "\n",
    "conditional_lr.cal_lr(task,n_neighbors=5,conditional=False)\n"
   ]
  },
  {
   "cell_type": "code",
   "execution_count": null,
   "metadata": {},
   "outputs": [],
   "source": [
    "\n",
    "tasks=type_and_suffix('disease','all',)\n",
    "\n",
    "tags=[0,1]\n",
    "for subtask in tasks.subtasks:\n",
    "    for tag in tags:\n",
    "        task=type_and_suffix('disease',subtask,tag)\n",
    "\n",
    "        cox.cox_regression(task)\n",
    "        \n",
    "        binomial.disease_pairs_subgroup(task)\n",
    "        \n",
    "        conditional_lr.cal_lr(task,n_neighbors=5,conditional=False)\n",
    "\n",
    "cox.create_table_subgroup(tasks)        \n",
    "\n",
    "conditional_lr.create_table_subgroup(tasks)"
   ]
  },
  {
   "cell_type": "code",
   "execution_count": null,
   "metadata": {},
   "outputs": [],
   "source": [
    "task=type_and_suffix('disease','all',)\n",
    "cox.for_cox_sens(task)\n",
    "cox.cox_regression(task,sens=True)\n",
    "cox.create_table_sens(task)"
   ]
  },
  {
   "cell_type": "code",
   "execution_count": null,
   "metadata": {},
   "outputs": [],
   "source": [
    "task=type_and_suffix('death','all',)\n",
    "cox.cox_regression(task,target_disease='NFS_above',custom='_NFS_above')\n",
    "cox.cox_regression(task,target_disease='NFS_below',custom='_NFS_below')\n",
    "cox.create_table_nfs(task)"
   ]
  },
  {
   "attachments": {},
   "cell_type": "markdown",
   "metadata": {},
   "source": [
    "# Section 2"
   ]
  },
  {
   "cell_type": "code",
   "execution_count": null,
   "metadata": {},
   "outputs": [],
   "source": [
    "task=type_and_suffix('death','all',)\n",
    "\n",
    "cox.cox_regression(task)"
   ]
  },
  {
   "cell_type": "code",
   "execution_count": null,
   "metadata": {},
   "outputs": [],
   "source": [
    "tags=[0,1]\n",
    "for subtask in task.subtasks:\n",
    "    for tag in tags:\n",
    "        task=type_and_suffix('death',subtask,tag)\n",
    "        cox.cox_regression(task)\n",
    "task=type_and_suffix('death','all',)\n",
    "cox.create_table_subgroup(task)"
   ]
  },
  {
   "cell_type": "code",
   "execution_count": null,
   "metadata": {},
   "outputs": [],
   "source": [
    "task=type_and_suffix('death','all',)\n",
    "cox.cox_regression(task,sens=True)\n",
    "cox.create_table_sens(task)"
   ]
  },
  {
   "attachments": {},
   "cell_type": "markdown",
   "metadata": {},
   "source": [
    "# Section 3"
   ]
  },
  {
   "cell_type": "code",
   "execution_count": null,
   "metadata": {},
   "outputs": [],
   "source": [
    "Deaths=pd.read_csv('cox/cox_result_death_all.csv',index_col=0)\n",
    "for Death in Deaths.index:\n",
    "    frequency=int(Deaths.loc[Death,'frequency']*0.05)\n",
    "    task=type_and_suffix('death','all',Death_cause=Death)\n",
    "    cox.death_cox_regression(task)\n",
    "    binomial.disease_death_pairs(task,frequency)\n",
    "    conditional_lr.cal_lr(task,n_neighbors=5,conditional=False)\n",
    "    conditional_lr.cal_lr_death(task,n_neighbors=5)"
   ]
  },
  {
   "cell_type": "code",
   "execution_count": null,
   "metadata": {},
   "outputs": [],
   "source": [
    "Death_data=pd.DataFrame()\n",
    "Deaths=pd.read_csv('cox/cox_result_death_all.csv',index_col=0)\n",
    "for Death in Deaths.index:\n",
    "    data=pd.read_csv('con_lr/T2_death_'+Death+'.csv')\n",
    "    data.insert(1,'Death_cause',Death)\n",
    "    Death_data=pd.concat([Death_data,data])\n",
    "Death_data.to_csv('con_lr_subgroup/lr_death_merge.csv',index=False)"
   ]
  },
  {
   "cell_type": "code",
   "execution_count": null,
   "metadata": {},
   "outputs": [],
   "source": [
    "Death_data=pd.DataFrame()\n",
    "Deaths=pd.read_csv('cox/cox_result_death_all.csv',index_col=0)\n",
    "for Death in Deaths.index:\n",
    "    data=pd.read_csv('cox/cox_result_death_'+Death+'.csv')\n",
    "    data.insert(1,'Death_cause',Death)\n",
    "    Death_data=pd.concat([Death_data,data])\n",
    "Death_data.to_csv('cox_subgroup/cox_death_merge.csv',index=False)"
   ]
  },
  {
   "attachments": {},
   "cell_type": "markdown",
   "metadata": {},
   "source": [
    "# Data used to draw trajectory"
   ]
  },
  {
   "cell_type": "code",
   "execution_count": null,
   "metadata": {},
   "outputs": [],
   "source": [
    "data=pd.read_csv('con_lr/T2_disease_all.csv',index_col=0)\n",
    "data.to_csv('Draw/Disease_original_all.csv')\n",
    "conditional_lr.paint_edge(data).to_csv('Draw/Disease_simplified_all.csv')"
   ]
  }
 ],
 "metadata": {
  "kernelspec": {
   "display_name": "Trajectory",
   "language": "python",
   "name": "python3"
  },
  "language_info": {
   "codemirror_mode": {
    "name": "ipython",
    "version": 3
   },
   "file_extension": ".py",
   "mimetype": "text/x-python",
   "name": "python",
   "nbconvert_exporter": "python",
   "pygments_lexer": "ipython3",
   "version": "3.11.2"
  },
  "orig_nbformat": 4
 },
 "nbformat": 4,
 "nbformat_minor": 2
}
